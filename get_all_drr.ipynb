{
 "cells": [
  {
   "cell_type": "code",
   "id": "initial_id",
   "metadata": {
    "collapsed": true,
    "ExecuteTime": {
     "end_time": "2024-05-03T14:13:21.786747Z",
     "start_time": "2024-05-03T14:13:21.772198Z"
    }
   },
   "source": [
    "import os\n",
    "from tqdm import tqdm"
   ],
   "outputs": [],
   "execution_count": 14
  },
  {
   "metadata": {
    "ExecuteTime": {
     "end_time": "2024-05-03T14:13:21.833594Z",
     "start_time": "2024-05-03T14:13:21.790746Z"
    }
   },
   "cell_type": "code",
   "source": [
    "base_folder_name = r\"C:\\Users\\M47h1\\Documents\\EiffelMedtech\\AttUnet_3DRecon\\subjects\"\n",
    "output_folder_name = r\"C:\\Users\\M47h1\\Documents\\EiffelMedtech\\pytorch_cyclegan\\datasets\\xray2drr\\temp_B_drr\"\n",
    "# get len of subjects\n",
    "number_of_subjects = len(os.listdir(base_folder_name))\n",
    "print(number_of_subjects)"
   ],
   "id": "9ff98604e6642a9",
   "outputs": [
    {
     "name": "stdout",
     "output_type": "stream",
     "text": [
      "512\n"
     ]
    }
   ],
   "execution_count": 15
  },
  {
   "metadata": {
    "ExecuteTime": {
     "end_time": "2024-05-03T14:13:56.993958Z",
     "start_time": "2024-05-03T14:13:21.836584Z"
    }
   },
   "cell_type": "code",
   "source": [
    "assert os.path.exists(output_folder_name), f\"Output folder {output_folder_name} does not exist\"\n",
    "# assert empty\n",
    "assert len(os.listdir(output_folder_name)) == 0, f\"Output folder {output_folder_name} is not empty\"\n",
    "for i in tqdm(range(number_of_subjects)):\n",
    "    subject_name = f's{i:04}'\n",
    "    path_add = fr\"{subject_name}\\derivatives\\xray_from_mask\"\n",
    "    path = os.path.join(base_folder_name, path_add)\n",
    "    ap_path = os.path.join(path, f'{subject_name}_femur_mask-ap.png')\n",
    "    lat_path = os.path.join(path, f'{subject_name}_femur_mask-lat.png')\n",
    "    new_ap_name = f'{subject_name}_{i}_ap.png'\n",
    "    new_lat_name = f'{subject_name}_{i}_lat.png'\n",
    "    new_ap_path = os.path.join(output_folder_name, new_ap_name)\n",
    "    new_lat_path = os.path.join(output_folder_name, new_lat_name)\n",
    "    # copy ap and lat to output folder\n",
    "    os.system(f'copy \"{ap_path}\" \"{new_ap_path}\"')\n",
    "    os.system(f'copy \"{lat_path}\" \"{new_lat_path}\"')\n"
   ],
   "id": "20d5dde715c283b7",
   "outputs": [
    {
     "name": "stderr",
     "output_type": "stream",
     "text": [
      "100%|██████████| 512/512 [00:35<00:00, 14.58it/s]\n"
     ]
    }
   ],
   "execution_count": 16
  },
  {
   "metadata": {
    "ExecuteTime": {
     "end_time": "2024-05-03T14:13:57.009151Z",
     "start_time": "2024-05-03T14:13:56.995967Z"
    }
   },
   "cell_type": "code",
   "source": [
    "    \n",
    "    "
   ],
   "id": "f2370268fa2a948",
   "outputs": [],
   "execution_count": 16
  }
 ],
 "metadata": {
  "kernelspec": {
   "display_name": "Python 3",
   "language": "python",
   "name": "python3"
  },
  "language_info": {
   "codemirror_mode": {
    "name": "ipython",
    "version": 2
   },
   "file_extension": ".py",
   "mimetype": "text/x-python",
   "name": "python",
   "nbconvert_exporter": "python",
   "pygments_lexer": "ipython2",
   "version": "2.7.6"
  }
 },
 "nbformat": 4,
 "nbformat_minor": 5
}
