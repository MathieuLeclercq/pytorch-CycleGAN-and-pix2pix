{
 "cells": [
  {
   "cell_type": "code",
   "id": "initial_id",
   "metadata": {
    "collapsed": true,
    "ExecuteTime": {
     "end_time": "2024-05-16T18:33:33.105652Z",
     "start_time": "2024-05-16T18:33:33.092583Z"
    }
   },
   "source": [
    "import Augmentor\n",
    "import os\n",
    "from PIL import Image, ImageOps\n",
    "from tqdm import tqdm"
   ],
   "outputs": [],
   "execution_count": 13
  },
  {
   "metadata": {
    "ExecuteTime": {
     "end_time": "2024-05-16T18:33:33.401661Z",
     "start_time": "2024-05-16T18:33:33.388115Z"
    }
   },
   "cell_type": "code",
   "source": [
    "path_to_data = r\"C:\\Users\\M47h1\\Documents\\EiffelMedtech\\pytorch_cyclegan\\datasets\\xray2drr\\trainA_noprosthesis\"\n",
    "# Create a pipeline\n"
   ],
   "id": "7e4c6710be3bd532",
   "outputs": [],
   "execution_count": 14
  },
  {
   "metadata": {
    "ExecuteTime": {
     "end_time": "2024-05-16T18:33:33.978537Z",
     "start_time": "2024-05-16T18:33:33.919686Z"
    }
   },
   "cell_type": "code",
   "source": [
    "p = Augmentor.Pipeline(path_to_data)\n",
    "\n",
    "# Add some operations to an existing pipeline.\n",
    "\n",
    "# First, we add a horizontal flip operation to the pipeline:\n",
    "p.flip_left_right(probability=0.5)\n",
    "\n",
    "p.random_distortion(probability=0.9, grid_width=4, grid_height=4, magnitude=6)\n",
    "\n",
    "p.rotate_without_crop(probability=0.7, max_left_rotation=10, max_right_rotation=10)\n",
    "\n",
    "p.shear(probability=0.9, max_shear_left=2, max_shear_right=2)\n",
    "\n",
    "p.skew(probability=0.9, magnitude=0.2)\n",
    "\n",
    "# p.resize(probability=1.0, width=512, height=256)\n",
    "\n"
   ],
   "id": "74198c50ba6df692",
   "outputs": [
    {
     "name": "stdout",
     "output_type": "stream",
     "text": [
      "Initialised with 223 image(s) found.\n",
      "Output directory set to C:\\Users\\M47h1\\Documents\\EiffelMedtech\\pytorch_cyclegan\\datasets\\xray2drr\\trainA_noprosthesis\\output."
     ]
    }
   ],
   "execution_count": 15
  },
  {
   "metadata": {
    "ExecuteTime": {
     "end_time": "2024-05-16T18:33:46.908809Z",
     "start_time": "2024-05-16T18:33:34.512680Z"
    }
   },
   "cell_type": "code",
   "source": "p.sample(3_000)",
   "id": "e75e87fda02f0c3d",
   "outputs": [
    {
     "name": "stderr",
     "output_type": "stream",
     "text": [
      "Processing <PIL.Image.Image image mode=L size=256x256 at 0x274EC984730>: 100%|██████████| 3000/3000 [00:12<00:00, 242.22 Samples/s]\n"
     ]
    }
   ],
   "execution_count": 16
  },
  {
   "metadata": {
    "ExecuteTime": {
     "end_time": "2024-05-16T18:36:44.548707Z",
     "start_time": "2024-05-16T18:36:17.859611Z"
    }
   },
   "cell_type": "code",
   "source": [
    "path_to_data = r\"C:\\Users\\M47h1\\Documents\\EiffelMedtech\\pytorch_cyclegan\\datasets\\xray2drr\\trainA_augmented\"\n",
    "path_output = r\"C:\\Users\\M47h1\\Documents\\EiffelMedtech\\pytorch_cyclegan\\datasets\\xray2drr\\trainA_augmented_output\"\n",
    "# get number of files in the directory\n",
    "num_files = len([f for f in os.listdir(path_to_data)])\n",
    "print(num_files)\n",
    "import random \n",
    "for file in tqdm(os.listdir(path_to_data)): # greyscale images\n",
    "    img = Image.open(os.path.join(path_to_data, file))\n",
    "    new_width = random.randint(256-40, 256+40)\n",
    "    new_height = 256\n",
    "    # resize the image\n",
    "    img = img.resize((new_width, new_height))\n",
    "    if new_width > 256:\n",
    "        # crop the image to 256x256 from center\n",
    "        center = new_width // 2\n",
    "        img = img.crop((center - 128, 0, center + 128, 256))\n",
    "    else:\n",
    "        # Pad the image to 256x256 from center\n",
    "        pad = (256 - new_width) // 2\n",
    "        padding = (pad, 0, pad, 0)  # (left, top, right, bottom)\n",
    "        img = ImageOps.expand(img, padding)\n",
    "        \n",
    "        # Ensure the image is exactly 256x256\n",
    "    if img.size != (256, 256):\n",
    "        \n",
    "        img = img.resize((256, 256))\n",
    "\n",
    "\n",
    "        \n",
    "    img.save(os.path.join(path_output, file))\n",
    "    \n",
    "    \n",
    "   "
   ],
   "id": "ba2b87c768fa7650",
   "outputs": [
    {
     "name": "stdout",
     "output_type": "stream",
     "text": [
      "3000\n"
     ]
    },
    {
     "name": "stderr",
     "output_type": "stream",
     "text": [
      "100%|██████████| 3000/3000 [00:26<00:00, 112.58it/s]\n"
     ]
    }
   ],
   "execution_count": 17
  },
  {
   "metadata": {
    "ExecuteTime": {
     "end_time": "2024-05-15T21:20:35.550583Z",
     "start_time": "2024-05-15T21:20:35.537031Z"
    }
   },
   "cell_type": "code",
   "source": "",
   "id": "bb6f9687457ed29e",
   "outputs": [],
   "execution_count": 114
  }
 ],
 "metadata": {
  "kernelspec": {
   "display_name": "Python 3",
   "language": "python",
   "name": "python3"
  },
  "language_info": {
   "codemirror_mode": {
    "name": "ipython",
    "version": 2
   },
   "file_extension": ".py",
   "mimetype": "text/x-python",
   "name": "python",
   "nbconvert_exporter": "python",
   "pygments_lexer": "ipython2",
   "version": "2.7.6"
  }
 },
 "nbformat": 4,
 "nbformat_minor": 5
}
